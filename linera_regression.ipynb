{
 "cells": [
  {
   "cell_type": "code",
   "execution_count": 2,
   "id": "aae19969",
   "metadata": {},
   "outputs": [],
   "source": [
    "import numpy as np\n",
    "from sklearn.datasets import make_regression\n",
    "import matplotlib.pyplot as plt"
   ]
  },
  {
   "cell_type": "markdown",
   "id": "a441f287",
   "metadata": {},
   "source": [
    "# 1- Dataset\n",
    "Gnération de données aléatoires avec une tendance linéaire avec make_regression: on a un dataset $(x, y)$ qui contient 100 exemples, et une seule variable $x$. Note: chaque fois que la cellule est executée, des données différentes sont générer. Utiliser np.random.seed(0) pour reproduire le meme Dataset a chaque fois."
   ]
  },
  {
   "cell_type": "code",
   "execution_count": 3,
   "id": "e02724e7",
   "metadata": {},
   "outputs": [
    {
     "data": {
      "text/plain": [
       "<matplotlib.collections.PathCollection at 0x1c7ab9dda60>"
      ]
     },
     "execution_count": 3,
     "metadata": {},
     "output_type": "execute_result"
    },
    {
     "data": {
      "image/png": "[encoded data removed]",
      "text/plain": [
       "<Figure size 432x288 with 1 Axes>"
      ]
     },
     "metadata": {
      "needs_background": "light"
     },
     "output_type": "display_data"
    }
   ],
   "source": [
    "np.random.seed(0) # pour toujours reproduire le meme dataset\n",
    "x, y = make_regression(n_samples=100, n_features=1, noise=10)\n",
    "plt.title(\"100 exemples de dimention = 1\")\n",
    "plt.xlabel(\"X\")\n",
    "plt.ylabel(\"Y\")\n",
    "plt.scatter(x, y) # afficher les résultats. X en abscisse et y en ordonnée"
   ]
  },
  {
   "cell_type": "markdown",
   "id": "3ce6f2dd",
   "metadata": {},
   "source": [
    "# Important: \n",
    "vérifier les dimensions de x et y. On remarque que y n'a pas les dimensions (100, 1). On corrige le probleme avec np.reshape"
   ]
  },
  {
   "cell_type": "code",
   "execution_count": 4,
   "id": "e92d31a6",
   "metadata": {},
   "outputs": [
    {
     "name": "stdout",
     "output_type": "stream",
     "text": [
      "dimention de x =  (100, 1)\n",
      "dimention de y =  (100,)\n",
      "dimention de y = (100, 1)\n"
     ]
    }
   ],
   "source": [
    "print(\"dimention de x = \",x.shape)\n",
    "print(\"dimention de y = \",y.shape)\n",
    "\n",
    "# redimensionner y\n",
    "y = y.reshape(y.shape[0], 1)\n",
    "print(\"dimention de y =\",y.shape)"
   ]
  },
  {
   "cell_type": "markdown",
   "id": "81cb4cce",
   "metadata": {},
   "source": [
    "Finalement, création d'un vecteur parametre $\\theta$, initialisé avec des coefficients aléatoires. Ce vecteur est de dimension (1, 1). Si on désire toujours reproduire le meme vecteur $\\theta$, on utilise comme avant np.random.seed(0)."
   ]
  },
  {
   "cell_type": "code",
   "execution_count": 5,
   "id": "ded6ba17",
   "metadata": {},
   "outputs": [
    {
     "name": "stdout",
     "output_type": "stream",
     "text": [
      "theta_x = [1.76405235]\n"
     ]
    }
   ],
   "source": [
    "np.random.seed(0) # pour produire toujours le meme vecteur theta aléatoire\n",
    "theta = np.random.randn(1, 1)\n",
    "print(\"theta_x =\",theta[0])"
   ]
  },
  {
   "cell_type": "markdown",
   "id": "53f04680",
   "metadata": {},
   "source": [
    "# Modele Linéaire\n",
    "On implémente un modele $F = X.\\theta$, puis on teste le modele pour voir s'il n'y a pas de bug (bonne pratique oblige). En plus, cela permet de voir a quoi ressemble le modele initial, défini par la valeur de $\\theta$"
   ]
  },
  {
   "cell_type": "code",
   "execution_count": 6,
   "id": "640949c8",
   "metadata": {},
   "outputs": [],
   "source": [
    "#definir F=X.Theta\n",
    "def model(X, theta):\n",
    "    return X.dot(theta)"
   ]
  },
  {
   "cell_type": "code",
   "execution_count": 7,
   "id": "20fe7152",
   "metadata": {},
   "outputs": [
    {
     "data": {
      "text/plain": [
       "[<matplotlib.lines.Line2D at 0x1c7ad1642b0>]"
      ]
     },
     "execution_count": 7,
     "metadata": {},
     "output_type": "execute_result"
    },
    {
     "data": {
      "image/png": "[encoded data removed]",
      "text/plain": [
       "<Figure size 432x288 with 1 Axes>"
      ]
     },
     "metadata": {
      "needs_background": "light"
     },
     "output_type": "display_data"
    }
   ],
   "source": [
    "plt.scatter(x, y)\n",
    "plt.title(\"droit =Theta*x\")\n",
    "plt.xlabel(\"X\")\n",
    "plt.ylabel(\"Y\")\n",
    "plt.plot(x, model(x, theta), c='r')"
   ]
  },
  {
   "cell_type": "markdown",
   "id": "248a90e5",
   "metadata": {},
   "source": [
    "# Fonction Cout : Erreur Quadratique moyenne¶\n",
    "On mesure les erreurs du modele sur le Dataset X, y en implémenterl'erreur quadratique moyenne, Mean Squared Error (MSE) en anglais.\n",
    "\n",
    "$ J(\\theta) = \\frac{1}{2m} \\sum (x_i.\\theta - y_i)^2  = \\frac{1}{2m} \\sum (\\hat{y_i}- y_i)^2 $\n",
    "\n",
    "Ensuite, on teste notre fonction, pour voir s'il n'y a pas de bug"
   ]
  },
  {
   "cell_type": "code",
   "execution_count": 8,
   "id": "c991c8e0",
   "metadata": {},
   "outputs": [
    {
     "name": "stdout",
     "output_type": "stream",
     "text": [
      "MSE =  906.2025963377247\n"
     ]
    }
   ],
   "source": [
    "def cost_function(X, y, theta):\n",
    "    m = len(y) # m=X.shape[0]\n",
    "    return 1/(2*m) * np.sum((model(X, theta) - y)**2)\n",
    "print(\"MSE = \",cost_function(x, y, theta))"
   ]
  },
  {
   "cell_type": "markdown",
   "id": "2d8ed9d4",
   "metadata": {},
   "source": [
    "# Gradients et Descente de Gradient\n",
    "On implémente la formule du gradient pour la MSE\n",
    "\n",
    "$\\frac{\\partial J(\\theta) }{\\partial \\theta} = \\frac{1}{m} X^T.(X.\\theta - y)$\n",
    "\n",
    "Ensuite on utilise cette fonction dans la descente de gradient:\n",
    "\n",
    "$\\theta = \\theta - \\alpha \\frac{\\partial J(\\theta) }{\\partial \\theta}$ "
   ]
  },
  {
   "cell_type": "code",
   "execution_count": 9,
   "id": "c2d650b4",
   "metadata": {},
   "outputs": [],
   "source": [
    "#calcule de MSE\n",
    "def grad(X, y, theta):\n",
    "    m = len(y)\n",
    "    return 1/m * X.T.dot(model(X, theta) - y)"
   ]
  },
  {
   "cell_type": "code",
   "execution_count": 10,
   "id": "98c98cbc",
   "metadata": {},
   "outputs": [],
   "source": [
    "#implementation de algo gradient_descent\n",
    "def gradient_descent(X, y, theta, learning_rate, n_iterations):\n",
    "    \n",
    "    cost_history = np.zeros(n_iterations) \n",
    "    # création d'un tableau de stockage pour enregistrer l'évolution du Cout du modele\n",
    "    \n",
    "    for i in range(0, n_iterations):\n",
    "        theta = theta - learning_rate * grad(X, y, theta) # mise a jour du parametre theta (formule du gradient descent)\n",
    "        cost_history[i] = cost_function(X, y, theta) # on enregistre la valeur du Cout au tour i dans cost_history[i]\n",
    "        \n",
    "    return theta, cost_history"
   ]
  },
  {
   "cell_type": "markdown",
   "id": "7649cb01",
   "metadata": {},
   "source": [
    "# Phase d'entrainement\n",
    "On définit un nombre d'itérations, ainsi qu'un pas d'apprentissage $\\alpha$, et c'est partit !\n",
    "\n",
    "Une fois le modele entrainé, on observe les resultats par rapport a notre Dataset"
   ]
  },
  {
   "cell_type": "code",
   "execution_count": 11,
   "id": "54ac6201",
   "metadata": {},
   "outputs": [
    {
     "name": "stdout",
     "output_type": "stream",
     "text": [
      "theat optimal = [[42.57021443]]\n"
     ]
    }
   ],
   "source": [
    "n_iterations = 1000\n",
    "learning_rate = 0.01\n",
    "theta_final, cost_history = gradient_descent(x, y, theta, learning_rate, n_iterations)\n",
    "print(\"theat optimal =\",theta_final)"
   ]
  },
  {
   "cell_type": "code",
   "execution_count": 12,
   "id": "358643c0",
   "metadata": {},
   "outputs": [
    {
     "data": {
      "text/plain": [
       "[<matplotlib.lines.Line2D at 0x1c7ad1cd640>]"
      ]
     },
     "execution_count": 12,
     "metadata": {},
     "output_type": "execute_result"
    },
    {
     "data": {
      "image/png": "[encoded data removed]",
      "text/plain": [
       "<Figure size 432x288 with 1 Axes>"
      ]
     },
     "metadata": {
      "needs_background": "light"
     },
     "output_type": "display_data"
    }
   ],
   "source": [
    "# création d'un vecteur prédictions qui contient les prédictions de notre modele final\n",
    "predictions = model(x, theta_final)\n",
    "\n",
    "# Affiche les résultats de prédictions (en rouge) par rapport a notre Dataset (en bleu)\n",
    "plt.scatter(x, y)\n",
    "plt.plot(x, predictions, c='r') #color red (rouge)"
   ]
  },
  {
   "cell_type": "markdown",
   "id": "5d4fd994",
   "metadata": {},
   "source": [
    "# Courbes d'apprentissage\n",
    "Pour vérifier si notre algorithme de Descente de gradient a bien fonctionné, on observe l'évolution de la fonction cout a travers les itérations. On est sensé obtenir une courbe qui diminue a chaque itération jusqu'a stagner a un niveau minimal (proche de zéro). Si la courbe ne suit pas ce motif, alors le pas learning_rate est peut-etre trop élevé, il faut prendre un pas plus faible."
   ]
  },
  {
   "cell_type": "code",
   "execution_count": 13,
   "id": "6983f2c3",
   "metadata": {},
   "outputs": [
    {
     "data": {
      "text/plain": [
       "[<matplotlib.lines.Line2D at 0x1c7ad225d00>]"
      ]
     },
     "execution_count": 13,
     "metadata": {},
     "output_type": "execute_result"
    },
    {
     "data": {
      "image/png": "[encoded data removed]",
      "text/plain": [
       "<Figure size 432x288 with 1 Axes>"
      ]
     },
     "metadata": {
      "needs_background": "light"
     },
     "output_type": "display_data"
    }
   ],
   "source": [
    "plt.title(\"theta en fonction de learning_rate\")\n",
    "plt.xlabel(\"learning_rate\")\n",
    "plt.ylabel(\"theta\")\n",
    "plt.plot(range(n_iterations), cost_history)"
   ]
  },
  {
   "cell_type": "markdown",
   "id": "f317c494",
   "metadata": {},
   "source": [
    "# Evaluation finale\n",
    "Pour évaluer la réelle performance de notre modele avec une métrique populaire (pour votre patron, client, ou vos collegues) on peut utiliser le coefficient de détermination, aussi connu sous le nom $R^2$. Il nous vient de la méthode des moindres carrés. Plus le résultat est proche de 1, meilleur est votre modele"
   ]
  },
  {
   "cell_type": "code",
   "execution_count": 14,
   "id": "a6047b85",
   "metadata": {},
   "outputs": [
    {
     "name": "stdout",
     "output_type": "stream",
     "text": [
      "MSE= 0.9413923338239568\n"
     ]
    }
   ],
   "source": [
    "def coef_determination(y, pred):\n",
    "    u = ((y - pred)**2).sum()\n",
    "    v = ((y - y.mean())**2).sum()\n",
    "    return 1 - u/v\n",
    "print(\"MSE=\",coef_determination(y, predictions))"
   ]
  },
  {
   "cell_type": "code",
   "execution_count": null,
   "id": "abc689a0",
   "metadata": {},
   "outputs": [],
   "source": []
  }
 ],
 "metadata": {
  "kernelspec": {
   "display_name": "Python 3 (ipykernel)",
   "language": "python",
   "name": "python3"
  },
  "language_info": {
   "codemirror_mode": {
    "name": "ipython",
    "version": 3
   },
   "file_extension": ".py",
   "mimetype": "text/x-python",
   "name": "python",
   "nbconvert_exporter": "python",
   "pygments_lexer": "ipython3",
   "version": "3.8.11"
  }
 },
 "nbformat": 4,
 "nbformat_minor": 5
}
